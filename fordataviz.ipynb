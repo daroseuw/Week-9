{
 "cells": [
  {
   "cell_type": "code",
   "execution_count": 12,
   "metadata": {},
   "outputs": [
    {
     "name": "stdout",
     "output_type": "stream",
     "text": [
      "Leaderboard:\n",
      "Player Name  Player Type\n",
      "Bob          Bot            3\n",
      "Darius       Human          3\n",
      "Alice        Bot            2\n",
      "Name: Player Symbol, dtype: int64\n",
      "\n",
      "\n",
      "Average moves for win:\n",
      "6.625\n",
      "\n",
      "\n",
      "Wins by player type:\n"
     ]
    },
    {
     "data": {
      "image/png": "[encoded data removed]",
      "text/plain": [
       "<Figure size 432x288 with 1 Axes>"
      ]
     },
     "metadata": {
      "needs_background": "light"
     },
     "output_type": "display_data"
    }
   ],
   "source": [
    "import pandas as pd\n",
    "from datetime import datetime, date\n",
    "from os.path import exists\n",
    "\n",
    "class DataHandling():\n",
    "    \"\"\"\n",
    "    Handles data from and to csv files.\n",
    "    \"\"\"\n",
    "    def __init__(self, game_file, move_file):\n",
    "        self.game_file = game_file\n",
    "        self.move_file = move_file\n",
    "        if (exists(self.game_file)):\n",
    "            self.game_data = pd.read_csv(self.game_file)\n",
    "        else:\n",
    "            self.game_data = pd.DataFrame(columns=[\n",
    "                \"Timestamp\",\n",
    "                \"Player 1 Name\",\n",
    "                \"Player 1 Symbol\",\n",
    "                \"Player 1 Type\",\n",
    "                \"Player 2 Name\",\n",
    "                \"Player 2 Symbol\",\n",
    "                \"Player 2 Type\",\n",
    "                \"Winner\",\n",
    "                \"Move Count\",\n",
    "            ])\n",
    "        if (exists(self.move_file)):\n",
    "            self.move_data = pd.read_csv(self.move_file)\n",
    "        else:\n",
    "            self.move_data = pd.DataFrame(columns=[\n",
    "                \"Game ID\",\n",
    "                \"Move Number\",\n",
    "                \"Player Name\",\n",
    "                \"Player Type\",\n",
    "                \"Player Symbol\",\n",
    "                \"Board Position\",\n",
    "            ])\n",
    "    \n",
    "    def record_game_data(self, is_winner, p1_name, p1_symbol, p1_type, p2_name, p2_symbol, p2_type, winner, move_count):\n",
    "        self.game_data.loc[len(self.game_data)] = {\n",
    "                \"Game ID\": len(self.game_data),\n",
    "                \"Timestamp\": datetime.now(),\n",
    "                \"Player 1 Name\": p1_name,\n",
    "                \"Player 1 Symbol\": p1_symbol,\n",
    "                \"Player 1 Type\": p1_type,\n",
    "                \"Player 2 Name\": p2_name,\n",
    "                \"Player 2 Symbol\": p2_symbol,\n",
    "                \"Player 2 Type\": p2_type,\n",
    "                \"Winner\": winner if is_winner == True else \"None-Draw\",\n",
    "                \"Move Count\": move_count,\n",
    "            }\n",
    "        self.game_data.to_csv(self.game_file, index=False)\n",
    "        \n",
    "\n",
    "    # NEED TO ADD GAME ID:\n",
    "    def record_move_data(self, move_num, player_name, player_type, player_symbol, board_position):\n",
    "        self.move_data.loc[len(self.move_data)] = {\n",
    "                \"Game ID\": len(self.game_data),\n",
    "                \"Move Number\": move_num,\n",
    "                \"Player Name\": player_name,\n",
    "                \"Player Type\": player_type,\n",
    "                \"Player Symbol\": player_symbol,\n",
    "                \"Board Position\": board_position,\n",
    "        }\n",
    "        self.move_data.to_csv(self.move_file, index=False)\n",
    "\n",
    "class DataViz:\n",
    "    \"\"\"\n",
    "    Visualize game data.\n",
    "    \"\"\"\n",
    "    def __init__(self, game_data):\n",
    "        self.game_data = game_data\n",
    "        self.win_data = self.game_data[self.game_data[\"Winner\"] != \"None-Draw\"]\n",
    "        self.win_data_p1 = self.win_data[self.win_data[\"Player 1 Symbol\"] == self.win_data[\"Winner\"]]\n",
    "        self.win_data_p1 = self.win_data_p1[[\"Player 1 Name\", \"Player 1 Symbol\", \"Player 1 Type\"]]\n",
    "        self.win_data_p1 = self.win_data_p1.rename(columns={\"Player 1 Name\": \"Player Name\", \"Player 1 Symbol\": \"Player Symbol\", \"Player 1 Type\": \"Player Type\"})\n",
    "        self.win_data_p2 = self.win_data[self.win_data[\"Player 2 Symbol\"] == self.win_data[\"Winner\"]]\n",
    "        self.win_data_p2 = self.win_data_p2[[\"Player 2 Name\", \"Player 2 Symbol\", \"Player 2 Type\"]]\n",
    "        self.win_data_p2 = self.win_data_p2.rename(columns={\"Player 2 Name\": \"Player Name\", \"Player 2 Symbol\": \"Player Symbol\", \"Player 2 Type\": \"Player Type\"})\n",
    "        self.win_data_all = pd.concat([self.win_data_p1, self.win_data_p2])\n",
    "\n",
    "    def wins_by_player(self):\n",
    "        return self.win_data_all.groupby([\"Player Name\", \"Player Type\"], sort=True)[\"Player Symbol\"].count().sort_values(ascending = False)\n",
    "\n",
    "    def move_count_avg(self):\n",
    "        return self.win_data[\"Move Count\"].mean()\n",
    "\n",
    "    def wins_by_type(self):\n",
    "        self.win_data_by_type = self.win_data_all.groupby([\"Player Type\"], sort=True)[\"Player Symbol\"].count().sort_values(ascending = False)        \n",
    "        self.win_data_by_type.plot.bar(x=\"Player Type\", rot=0)\n",
    "\n",
    "datahandling = DataHandling(\"./data/games.csv\", \"./data/moves.csv\")\n",
    "dataviz = DataViz(datahandling.game_data)\n",
    "print(\"Leaderboard:\")\n",
    "print(dataviz.wins_by_player())\n",
    "print(\"\\n\\nAverage moves for win:\")\n",
    "print(dataviz.move_count_avg())\n",
    "print(\"\\n\\nWins by player type:\")\n",
    "dataviz.wins_by_type()"
   ]
  }
 ],
 "metadata": {
  "kernelspec": {
   "display_name": "base",
   "language": "python",
   "name": "python3"
  },
  "language_info": {
   "codemirror_mode": {
    "name": "ipython",
    "version": 3
   },
   "file_extension": ".py",
   "mimetype": "text/x-python",
   "name": "python",
   "nbconvert_exporter": "python",
   "pygments_lexer": "ipython3",
   "version": "3.9.12"
  },
  "orig_nbformat": 4,
  "vscode": {
   "interpreter": {
    "hash": "378a79d1a29615541d3759fef1c2b99bd830b664b20ecf0b04f3e0f43ff41249"
   }
  }
 },
 "nbformat": 4,
 "nbformat_minor": 2
}
